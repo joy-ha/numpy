{
 "cells": [
  {
   "cell_type": "markdown",
   "id": "06ddfc91",
   "metadata": {},
   "source": [
    "# NumPy Practice Notebook\n",
    "\n",
    "This notebook follows the lecture slides and provides hands-on practice with NumPy."
   ]
  },
  {
   "cell_type": "markdown",
   "id": "c452317b",
   "metadata": {},
   "source": [
    "## 1. Introduction\n",
    "NumPy is a fundamental package for scientific computing in Python. It provides:\n",
    "- Homogeneous multidimensional array objects\n",
    "- Fast mathematical operations\n",
    "- Broadcasting\n",
    "- Linear algebra, statistics, random simulations\n"
   ]
  },
  {
   "cell_type": "markdown",
   "id": "18bfe799",
   "metadata": {},
   "source": [
    "## 2. Arrays"
   ]
  },
  {
   "cell_type": "markdown",
   "id": "b2f07f3d",
   "metadata": {},
   "source": [
    "### 2.1 Array Creation"
   ]
  },
  {
   "cell_type": "code",
   "execution_count": 8,
   "id": "15b0e482",
   "metadata": {},
   "outputs": [
    {
     "name": "stdout",
     "output_type": "stream",
     "text": [
      "1D array: [1 2 3]\n",
      "2D array:\n",
      "[[1 2 3]\n",
      " [4 5 6]]\n",
      "3D array of zeros:\n",
      "[[[0. 0.]\n",
      "  [0. 0.]]\n",
      "\n",
      " [[0. 0.]\n",
      "  [0. 0.]]]\n"
     ]
    }
   ],
   "source": [
    "\n",
    "import numpy as np\n",
    "\n",
    "# Examples\n",
    "a1 = np.array([1,2,3])\n",
    "print(\"1D array:\", a1)\n",
    "\n",
    "a2 = np.array([[1,2,3],[4,5,6]])\n",
    "print(\"2D array:\")\n",
    "print(a2)\n",
    "\n",
    "a3 = np.zeros((2,2,2))\n",
    "print(\"3D array of zeros:\")\n",
    "print(a3)"
   ]
  },
  {
   "cell_type": "markdown",
   "id": "cb5bb33d",
   "metadata": {},
   "source": [
    "**Exercise 1:** Create a 1D array with values from 10 to 50 (inclusive)."
   ]
  },
  {
   "cell_type": "code",
   "execution_count": null,
   "id": "ab27d77b",
   "metadata": {},
   "outputs": [],
   "source": [
    "# Your answer here\n",
    "your_array = ..."
   ]
  },
  {
   "cell_type": "code",
   "execution_count": null,
   "id": "b6462b90",
   "metadata": {},
   "outputs": [],
   "source": [
    "\n",
    "# ✅ Test\n",
    "assert np.array_equal(your_array, np.arange(10, 51)), \"❌ Not correct, try again!\"\n",
    "print(\"✅ Correct!\")\n"
   ]
  },
  {
   "cell_type": "markdown",
   "id": "4a6fdd9b",
   "metadata": {},
   "source": [
    "\n",
    "<details>\n",
    "<summary>✅ Show Solution</summary>\n",
    "\n",
    "```python\n",
    "your_array = np.arange(10, 51)\n",
    "```\n",
    "</details>\n"
   ]
  },
  {
   "cell_type": "markdown",
   "id": "bdf20ee7",
   "metadata": {},
   "source": [
    "### 2.2 Selecting Array Entries"
   ]
  },
  {
   "cell_type": "code",
   "execution_count": null,
   "id": "4adfa0d9",
   "metadata": {},
   "outputs": [],
   "source": [
    "\n",
    "arr = np.arange(1, 11)\n",
    "print(\"Array:\", arr)\n",
    "print(\"First element:\", arr[0])\n",
    "print(\"Last 3 elements:\", arr[-3:])\n",
    "print(\"Every second element:\", arr[::2])\n"
   ]
  },
  {
   "cell_type": "markdown",
   "id": "c0d627d8",
   "metadata": {},
   "source": [
    "**Exercise 2:** From the array `np.arange(1,21)`, extract every 3rd element."
   ]
  },
  {
   "cell_type": "code",
   "execution_count": null,
   "id": "600f3cde",
   "metadata": {},
   "outputs": [],
   "source": [
    "# Your answer here\n",
    "result = ..."
   ]
  },
  {
   "cell_type": "code",
   "execution_count": null,
   "id": "7c317d9c",
   "metadata": {},
   "outputs": [],
   "source": [
    "\n",
    "# ✅ Test\n",
    "expected = np.arange(1,21)[::3]\n",
    "assert np.array_equal(result, expected), \"❌ Not correct, try again!\"\n",
    "print(\"✅ Correct!\")\n"
   ]
  },
  {
   "cell_type": "markdown",
   "id": "885e1c92",
   "metadata": {},
   "source": [
    "\n",
    "<details>\n",
    "<summary>✅ Show Solution</summary>\n",
    "\n",
    "```python\n",
    "result = np.arange(1,21)[::3]\n",
    "```\n",
    "</details>\n"
   ]
  },
  {
   "cell_type": "markdown",
   "id": "14b31ad3",
   "metadata": {},
   "source": [
    "### 2.3 NumPy Arrays vs Python Lists"
   ]
  },
  {
   "cell_type": "code",
   "execution_count": null,
   "id": "eae8c692",
   "metadata": {},
   "outputs": [],
   "source": [
    "\n",
    "import time\n",
    "\n",
    "lst = list(range(1,1000000))\n",
    "arr = np.arange(1,1000000)\n",
    "\n",
    "# Squaring list (slow)\n",
    "start = time.time()\n",
    "lst2 = [x**2 for x in lst]\n",
    "print(\"List time:\", time.time()-start)\n",
    "\n",
    "# Squaring array (fast)\n",
    "start = time.time()\n",
    "arr2 = arr**2\n",
    "print(\"Array time:\", time.time()-start)\n"
   ]
  },
  {
   "cell_type": "markdown",
   "id": "099fd5f2",
   "metadata": {},
   "source": [
    "### 2.4 Data Types and Attributes"
   ]
  },
  {
   "cell_type": "code",
   "execution_count": null,
   "id": "5df2b6d7",
   "metadata": {},
   "outputs": [],
   "source": [
    "\n",
    "arr = np.array([1,2,3], dtype=np.float32)\n",
    "print(\"Array:\", arr)\n",
    "print(\"Data type:\", arr.dtype)\n",
    "print(\"Shape:\", arr.shape)\n",
    "print(\"Size:\", arr.size)\n"
   ]
  },
  {
   "cell_type": "markdown",
   "id": "288994b5",
   "metadata": {},
   "source": [
    "**Exercise 3:** Create a 3x3 matrix of ones with integer type."
   ]
  },
  {
   "cell_type": "code",
   "execution_count": null,
   "id": "1c5fde26",
   "metadata": {},
   "outputs": [],
   "source": [
    "# Your answer here\n",
    "matrix = ..."
   ]
  },
  {
   "cell_type": "code",
   "execution_count": null,
   "id": "bfa5180f",
   "metadata": {},
   "outputs": [],
   "source": [
    "\n",
    "# ✅ Test\n",
    "expected = np.ones((3,3), dtype=int)\n",
    "assert np.array_equal(matrix, expected), \"❌ Not correct, try again!\"\n",
    "print(\"✅ Correct!\")\n"
   ]
  },
  {
   "cell_type": "markdown",
   "id": "d32c8639",
   "metadata": {},
   "source": [
    "\n",
    "<details>\n",
    "<summary>✅ Show Solution</summary>\n",
    "\n",
    "```python\n",
    "matrix = np.ones((3,3), dtype=int)\n",
    "```\n",
    "</details>\n"
   ]
  },
  {
   "cell_type": "markdown",
   "id": "2b6fc335",
   "metadata": {},
   "source": [
    "## 3. Operations on Arrays"
   ]
  },
  {
   "cell_type": "markdown",
   "id": "046347df",
   "metadata": {},
   "source": [
    "### 3.1 Basic Array Operations"
   ]
  },
  {
   "cell_type": "code",
   "execution_count": null,
   "id": "c255c924",
   "metadata": {},
   "outputs": [],
   "source": [
    "\n",
    "x = np.array([1,2,3])\n",
    "y = np.array([4,5,6])\n",
    "\n",
    "print(\"x + y:\", x+y)\n",
    "print(\"x * y:\", x*y)\n",
    "print(\"x ** 2:\", x**2)\n"
   ]
  },
  {
   "cell_type": "markdown",
   "id": "f456ca10",
   "metadata": {},
   "source": [
    "**Exercise 4:** Create arrays `[10,20,30]` and `[1,2,3]`. Compute their product."
   ]
  },
  {
   "cell_type": "code",
   "execution_count": null,
   "id": "e658662a",
   "metadata": {},
   "outputs": [],
   "source": [
    "# Your answer here\n",
    "prod = ..."
   ]
  },
  {
   "cell_type": "code",
   "execution_count": null,
   "id": "df2f1d9b",
   "metadata": {},
   "outputs": [],
   "source": [
    "\n",
    "# ✅ Test\n",
    "a = np.array([10,20,30])\n",
    "b = np.array([1,2,3])\n",
    "expected = a*b\n",
    "assert np.array_equal(prod, expected), \"❌ Not correct, try again!\"\n",
    "print(\"✅ Correct!\")\n"
   ]
  },
  {
   "cell_type": "markdown",
   "id": "f3bfaf2e",
   "metadata": {},
   "source": [
    "\n",
    "<details>\n",
    "<summary>✅ Show Solution</summary>\n",
    "\n",
    "```python\n",
    "a = np.array([10,20,30])\n",
    "b = np.array([1,2,3])\n",
    "prod = a * b\n",
    "```\n",
    "</details>\n"
   ]
  },
  {
   "cell_type": "markdown",
   "id": "1f40918e",
   "metadata": {},
   "source": [
    "### 3.2 Broadcasting"
   ]
  },
  {
   "cell_type": "code",
   "execution_count": null,
   "id": "9c885803",
   "metadata": {},
   "outputs": [],
   "source": [
    "\n",
    "M = np.ones((3,3))\n",
    "v = np.array([1,2,3])\n",
    "\n",
    "print(\"Matrix:\n",
    "\", M)\n",
    "print(\"Vector:\", v)\n",
    "print(\"M + v:\n",
    "\", M+v)\n"
   ]
  },
  {
   "cell_type": "markdown",
   "id": "9252d8e9",
   "metadata": {},
   "source": [
    "**Exercise 5:** Create a 5x5 matrix of ones and add `[0,1,2,3,4]` to each row using broadcasting."
   ]
  },
  {
   "cell_type": "code",
   "execution_count": null,
   "id": "238539bc",
   "metadata": {},
   "outputs": [],
   "source": [
    "# Your answer here\n",
    "result = ..."
   ]
  },
  {
   "cell_type": "code",
   "execution_count": null,
   "id": "b399c3e7",
   "metadata": {},
   "outputs": [],
   "source": [
    "\n",
    "# ✅ Test\n",
    "M = np.ones((5,5))\n",
    "v = np.arange(5)\n",
    "expected = M + v\n",
    "assert np.array_equal(result, expected), \"❌ Not correct, try again!\"\n",
    "print(\"✅ Correct!\")\n"
   ]
  },
  {
   "cell_type": "markdown",
   "id": "37e80426",
   "metadata": {},
   "source": [
    "\n",
    "<details>\n",
    "<summary>✅ Show Solution</summary>\n",
    "\n",
    "```python\n",
    "M = np.ones((5,5))\n",
    "v = np.arange(5)\n",
    "result = M + v\n",
    "```\n",
    "</details>\n"
   ]
  },
  {
   "cell_type": "markdown",
   "id": "43098c1b",
   "metadata": {},
   "source": [
    "### 3.3 Useful Operations"
   ]
  },
  {
   "cell_type": "code",
   "execution_count": null,
   "id": "fe8ad1f6",
   "metadata": {},
   "outputs": [],
   "source": [
    "\n",
    "arr = np.random.randint(1,100,(3,3))\n",
    "print(\"Array:\n",
    "\", arr)\n",
    "print(\"Max:\", arr.max())\n",
    "print(\"Mean:\", arr.mean())\n",
    "print(\"Sum:\", arr.sum())\n",
    "print(\"Transpose:\n",
    "\", arr.T)\n"
   ]
  },
  {
   "cell_type": "markdown",
   "id": "2fa2187f",
   "metadata": {},
   "source": [
    "**Exercise 6:** Generate a 4x4 matrix of random integers (0–9). Compute the column sums."
   ]
  },
  {
   "cell_type": "code",
   "execution_count": null,
   "id": "a03f2936",
   "metadata": {},
   "outputs": [],
   "source": [
    "# Your answer here\n",
    "col_sums = ..."
   ]
  },
  {
   "cell_type": "code",
   "execution_count": null,
   "id": "c3ef1ddb",
   "metadata": {},
   "outputs": [],
   "source": [
    "\n",
    "# ✅ Test\n",
    "test_arr = np.random.randint(0,10,(4,4))\n",
    "# regenerate consistently for test\n",
    "np.random.seed(0)\n",
    "matrix = np.random.randint(0,10,(4,4))\n",
    "expected = np.sum(matrix, axis=0)\n",
    "assert col_sums.shape == expected.shape, \"❌ Shape is wrong\"\n",
    "print(\"✅ Looks good (values vary each run)\")\n"
   ]
  },
  {
   "cell_type": "markdown",
   "id": "9d2dc941",
   "metadata": {},
   "source": [
    "\n",
    "<details>\n",
    "<summary>✅ Show Solution</summary>\n",
    "\n",
    "```python\n",
    "matrix = np.random.randint(0,10,(4,4))\n",
    "col_sums = np.sum(matrix, axis=0)\n",
    "```\n",
    "</details>\n"
   ]
  },
  {
   "cell_type": "markdown",
   "id": "c11e2321",
   "metadata": {},
   "source": [
    "## 4. Resources\n",
    "- [NumPy Documentation](https://numpy.org/doc/stable/)\n",
    "- [W3Schools NumPy Tutorial](https://www.w3schools.com/python/numpy/default.asp)\n",
    "- [SciPy Lectures](https://scipy-lectures.org/)"
   ]
  }
 ],
 "metadata": {
  "kernelspec": {
   "display_name": "Python 3 (ipykernel)",
   "language": "python",
   "name": "python3"
  },
  "language_info": {
   "codemirror_mode": {
    "name": "ipython",
    "version": 3
   },
   "file_extension": ".py",
   "mimetype": "text/x-python",
   "name": "python",
   "nbconvert_exporter": "python",
   "pygments_lexer": "ipython3",
   "version": "3.11.4"
  }
 },
 "nbformat": 4,
 "nbformat_minor": 5
}
