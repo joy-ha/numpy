{
 "cells": [
  {
   "cell_type": "markdown",
   "id": "fbf04c9a-94fe-4b24-99e1-6b67e2db8947",
   "metadata": {},
   "source": [
    "# NumPy"
   ]
  },
  {
   "cell_type": "code",
   "execution_count": 2,
   "id": "e9d024d0-9e64-42d3-9234-fcb22c49e672",
   "metadata": {},
   "outputs": [],
   "source": [
    "import numpy as np\n",
    "import math\n"
   ]
  },
  {
   "cell_type": "markdown",
   "id": "31cc0406-8317-4f79-8def-9fd072e1ec16",
   "metadata": {},
   "source": [
    "### Multidimensional arrays\n",
    "and = np.array([[[[[[....[1,2],[3,4],.....[...,...]]]]])"
   ]
  },
  {
   "cell_type": "code",
   "execution_count": 3,
   "id": "4a29a32c-9637-489a-8c9e-07a3cdcf876e",
   "metadata": {},
   "outputs": [
    {
     "name": "stdout",
     "output_type": "stream",
     "text": [
      "[1 2 3]\n"
     ]
    }
   ],
   "source": [
    "a1d = np.array([1, 2, 3])\n",
    "print(a1d)"
   ]
  },
  {
   "cell_type": "code",
   "execution_count": 4,
   "id": "c192af82-5505-4ff5-b96d-2990baacb7fb",
   "metadata": {},
   "outputs": [
    {
     "data": {
      "text/plain": [
       "array([[1, 2, 3],\n",
       "       [4, 5, 6],\n",
       "       [7, 8, 9]])"
      ]
     },
     "execution_count": 4,
     "metadata": {},
     "output_type": "execute_result"
    }
   ],
   "source": [
    "a2d = np.array([[1, 2, 3], [4, 5, 6], [7, 8, 9]])\n",
    "a2d"
   ]
  },
  {
   "cell_type": "code",
   "execution_count": 5,
   "id": "545b5fa3-1f51-41d3-9a8b-dbbb3f5ee28e",
   "metadata": {},
   "outputs": [
    {
     "data": {
      "text/plain": [
       "array([[[1, 2],\n",
       "        [3, 4]],\n",
       "\n",
       "       [[5, 6],\n",
       "        [7, 8]]])"
      ]
     },
     "execution_count": 5,
     "metadata": {},
     "output_type": "execute_result"
    }
   ],
   "source": [
    "a3d = np.array([[[1, 2], [3, 4]], [[5, 6], [7,8]]])\n",
    "a3d"
   ]
  },
  {
   "cell_type": "markdown",
   "id": "ba50c544-1146-4a4c-b5a2-6f56d40de641",
   "metadata": {},
   "source": [
    "### Homogeneneity"
   ]
  },
  {
   "cell_type": "code",
   "execution_count": 6,
   "id": "6151e5ee-951b-497f-a086-0e0b8ef511cc",
   "metadata": {},
   "outputs": [
    {
     "data": {
      "text/plain": [
       "array([1., 1.])"
      ]
     },
     "execution_count": 6,
     "metadata": {},
     "output_type": "execute_result"
    }
   ],
   "source": [
    "a1d = np.array([1, 1.0])\n",
    "a1d"
   ]
  },
  {
   "cell_type": "code",
   "execution_count": 7,
   "id": "01d29dc5-88e5-4731-b15a-7a1938d8c1e3",
   "metadata": {},
   "outputs": [
    {
     "data": {
      "text/plain": [
       "numpy.ndarray"
      ]
     },
     "execution_count": 7,
     "metadata": {},
     "output_type": "execute_result"
    }
   ],
   "source": [
    "type(a1d)"
   ]
  },
  {
   "cell_type": "markdown",
   "id": "d0683bd1-f934-4664-94ae-fa88dbc544c1",
   "metadata": {},
   "source": [
    "### Faster Numerical Operations"
   ]
  },
  {
   "cell_type": "code",
   "execution_count": 8,
   "id": "7354af64-49a8-4fa0-8cda-f98673536bca",
   "metadata": {},
   "outputs": [
    {
     "name": "stdout",
     "output_type": "stream",
     "text": [
      "Time taken by Lists to perform multiplication: 0.09817624092102051 seconds\n",
      "Time taken by NumPy Arrays to perform multiplication: 0.008514881134033203 seconds\n"
     ]
    }
   ],
   "source": [
    "# importing required packages\n",
    "import time\n",
    "\n",
    "# size of arrays and lists\n",
    "size = 1000000\n",
    "\n",
    "# declaring lists\n",
    "list1 = range(size)\n",
    "list2 = range(size)\n",
    "\n",
    "# declaring arrays\n",
    "array1 = np.arange(size)\n",
    "array2 = np.arange(size)\n",
    "\n",
    "# capturing time before the multiplication of Python lists\n",
    "initialTime = time.time()\n",
    "\n",
    "# multiplying elements of both the lists and stored in another list\n",
    "resultantList = [(a * b) for a, b in zip(list1, list2)]\n",
    "\n",
    "# calculating execution time\n",
    "print(\"Time taken by Lists to perform multiplication:\",\n",
    "    (time.time() - initialTime),\n",
    "    \"seconds\")\n",
    "\n",
    "# capturing time before the multiplication of Numpy arrays\n",
    "initialTime = time.time()\n",
    "\n",
    "# multiplying elements of both the Numpy arrays and stored in another Numpy array\n",
    "resultantArray = array1 * array2\n",
    "\n",
    "# calculating execution time\n",
    "print(\"Time taken by NumPy Arrays to perform multiplication:\",\n",
    "    (time.time() - initialTime),\n",
    "    \"seconds\")"
   ]
  },
  {
   "cell_type": "code",
   "execution_count": 9,
   "id": "fc48843c-505a-4a15-b158-9bb04e1b6ff9",
   "metadata": {},
   "outputs": [],
   "source": [
    "array_2D = np.array([[1, 2, 3], [4, 5, 6]])"
   ]
  },
  {
   "cell_type": "code",
   "execution_count": 10,
   "id": "9679e46f-6b18-45cf-bd24-28a22d993364",
   "metadata": {},
   "outputs": [
    {
     "data": {
      "text/plain": [
       "array([[1, 2, 3],\n",
       "       [4, 5, 6]])"
      ]
     },
     "execution_count": 10,
     "metadata": {},
     "output_type": "execute_result"
    }
   ],
   "source": [
    "array_2D"
   ]
  },
  {
   "cell_type": "code",
   "execution_count": 11,
   "id": "f6593055-eb1c-4011-8528-f9b243c33f3f",
   "metadata": {},
   "outputs": [
    {
     "data": {
      "text/plain": [
       "array([[[ 1,  2,  3],\n",
       "        [ 4,  5,  6]],\n",
       "\n",
       "       [[ 7,  8,  9],\n",
       "        [10, 11, 12]]])"
      ]
     },
     "execution_count": 11,
     "metadata": {},
     "output_type": "execute_result"
    }
   ],
   "source": [
    "array_3D = np.array([[[1, 2, 3], [4, 5, 6]], [[7, 8, 9], [10, 11, 12]]])\n",
    "array_3D"
   ]
  },
  {
   "cell_type": "code",
   "execution_count": 12,
   "id": "16119436-d41e-4189-851e-b94049355e63",
   "metadata": {},
   "outputs": [
    {
     "data": {
      "text/plain": [
       "array([1, 2])"
      ]
     },
     "execution_count": 12,
     "metadata": {},
     "output_type": "execute_result"
    }
   ],
   "source": [
    "array_1D = np.array([1,2])\n",
    "array_1D"
   ]
  },
  {
   "cell_type": "code",
   "execution_count": 13,
   "id": "52753d1e-d575-43ac-97b3-bb7ab1972cfa",
   "metadata": {},
   "outputs": [
    {
     "data": {
      "text/plain": [
       "dtype('<U32')"
      ]
     },
     "execution_count": 13,
     "metadata": {},
     "output_type": "execute_result"
    }
   ],
   "source": [
    "array_1D = np.array([1.0, 'test'])\n",
    "array_1D\n",
    "array_1D.dtype"
   ]
  },
  {
   "cell_type": "code",
   "execution_count": 14,
   "id": "d03ca4ac-d047-44cb-ba52-7878c67a8849",
   "metadata": {},
   "outputs": [
    {
     "data": {
      "text/plain": [
       "5"
      ]
     },
     "execution_count": 14,
     "metadata": {},
     "output_type": "execute_result"
    }
   ],
   "source": [
    "array_2D[1,1]"
   ]
  },
  {
   "cell_type": "code",
   "execution_count": 15,
   "id": "7711aabe-6b6b-43c9-85c4-bc8cbd50e1bf",
   "metadata": {},
   "outputs": [
    {
     "data": {
      "text/plain": [
       "(2, 2, 3)"
      ]
     },
     "execution_count": 15,
     "metadata": {},
     "output_type": "execute_result"
    }
   ],
   "source": [
    "array_3D.shape"
   ]
  },
  {
   "cell_type": "code",
   "execution_count": 16,
   "id": "3a44cc15-e4f4-4aa3-8fd9-fa158b90dea6",
   "metadata": {},
   "outputs": [
    {
     "data": {
      "text/plain": [
       "9"
      ]
     },
     "execution_count": 16,
     "metadata": {},
     "output_type": "execute_result"
    }
   ],
   "source": [
    "array_3D[1,0,2]"
   ]
  },
  {
   "cell_type": "code",
   "execution_count": 17,
   "id": "c3ec0df9-ba6f-48e4-a255-2eaa01de1877",
   "metadata": {},
   "outputs": [
    {
     "data": {
      "text/plain": [
       "array([], shape=(0, 3), dtype=int64)"
      ]
     },
     "execution_count": 17,
     "metadata": {},
     "output_type": "execute_result"
    }
   ],
   "source": [
    "array_2D[1:0]"
   ]
  },
  {
   "cell_type": "code",
   "execution_count": 18,
   "id": "5faecead-2a65-41a0-beb3-dbec7695b8c3",
   "metadata": {},
   "outputs": [
    {
     "data": {
      "text/plain": [
       "2"
      ]
     },
     "execution_count": 18,
     "metadata": {},
     "output_type": "execute_result"
    }
   ],
   "source": [
    "array_2D[0,1]"
   ]
  },
  {
   "cell_type": "code",
   "execution_count": 19,
   "id": "c614021d-de56-4f71-85f2-3340d5f7cd22",
   "metadata": {},
   "outputs": [
    {
     "data": {
      "text/plain": [
       "array([3, 6])"
      ]
     },
     "execution_count": 19,
     "metadata": {},
     "output_type": "execute_result"
    }
   ],
   "source": [
    "array_2D[:,2]"
   ]
  },
  {
   "cell_type": "code",
   "execution_count": 20,
   "id": "a86180a8-5171-49c2-a44f-3d6c407ea419",
   "metadata": {},
   "outputs": [
    {
     "data": {
      "text/plain": [
       "array([[[10, 11, 12]]])"
      ]
     },
     "execution_count": 20,
     "metadata": {},
     "output_type": "execute_result"
    }
   ],
   "source": [
    "array_3D[1:,1:]"
   ]
  },
  {
   "cell_type": "code",
   "execution_count": 21,
   "id": "0df9c40a-06b6-4c7b-9984-1c17fec53630",
   "metadata": {},
   "outputs": [],
   "source": [
    "array_2D = np.array([[1, 2, 3], [4, 5, 6]])"
   ]
  },
  {
   "cell_type": "code",
   "execution_count": 22,
   "id": "6dc5c351-ff9a-4476-bb41-979ecc00a6d9",
   "metadata": {},
   "outputs": [
    {
     "data": {
      "text/plain": [
       "6"
      ]
     },
     "execution_count": 22,
     "metadata": {},
     "output_type": "execute_result"
    }
   ],
   "source": [
    "array_2D[1,2]"
   ]
  },
  {
   "cell_type": "code",
   "execution_count": 23,
   "id": "1142f611-de68-44dc-8cc9-d67b2659efa2",
   "metadata": {},
   "outputs": [
    {
     "data": {
      "text/plain": [
       "array([1, 4])"
      ]
     },
     "execution_count": 23,
     "metadata": {},
     "output_type": "execute_result"
    }
   ],
   "source": [
    "array_2D[:,0]"
   ]
  },
  {
   "cell_type": "code",
   "execution_count": 24,
   "id": "5df3ef4e-366c-4957-844b-737ba6f869f3",
   "metadata": {},
   "outputs": [
    {
     "data": {
      "text/plain": [
       "array([1, 2, 3])"
      ]
     },
     "execution_count": 24,
     "metadata": {},
     "output_type": "execute_result"
    }
   ],
   "source": [
    ">>> array_2D[0,:]"
   ]
  },
  {
   "cell_type": "code",
   "execution_count": 25,
   "id": "3d87f2a8-505b-4be6-afdc-479b1ed291f9",
   "metadata": {},
   "outputs": [
    {
     "data": {
      "text/plain": [
       "array([[[ 1,  2,  3],\n",
       "        [ 4,  5,  6]],\n",
       "\n",
       "       [[ 7,  8,  9],\n",
       "        [10, 11, 12]]])"
      ]
     },
     "execution_count": 25,
     "metadata": {},
     "output_type": "execute_result"
    }
   ],
   "source": [
    "array_3D = np.array([[[1, 2, 3], [4, 5, 6]], [[7, 8, 9], [10, 11, 12]]])\n",
    "array_3D"
   ]
  },
  {
   "cell_type": "code",
   "execution_count": 26,
   "id": "d1655c37-5d18-44b5-96d0-0d548d51e35e",
   "metadata": {},
   "outputs": [
    {
     "data": {
      "text/plain": [
       "2"
      ]
     },
     "execution_count": 26,
     "metadata": {},
     "output_type": "execute_result"
    }
   ],
   "source": [
    ">>> array_3D[0,0,1]"
   ]
  },
  {
   "cell_type": "code",
   "execution_count": 27,
   "id": "74293efb-2fb7-47c4-9a8d-659f622c692f",
   "metadata": {},
   "outputs": [
    {
     "data": {
      "text/plain": [
       "array([4, 5, 6])"
      ]
     },
     "execution_count": 27,
     "metadata": {},
     "output_type": "execute_result"
    }
   ],
   "source": [
    ">>> array_3D[0,1]"
   ]
  },
  {
   "cell_type": "code",
   "execution_count": 28,
   "id": "094ea795-615a-4d94-9a28-722dbe47fd1b",
   "metadata": {},
   "outputs": [
    {
     "data": {
      "text/plain": [
       "array([ 7, 10])"
      ]
     },
     "execution_count": 28,
     "metadata": {},
     "output_type": "execute_result"
    }
   ],
   "source": [
    ">>> array_3D[1,:,0]"
   ]
  },
  {
   "cell_type": "code",
   "execution_count": 29,
   "id": "8ded7144-e793-4aa3-a349-659385f39288",
   "metadata": {},
   "outputs": [
    {
     "data": {
      "text/plain": [
       "array(['1.0', 'test'], dtype='<U32')"
      ]
     },
     "execution_count": 29,
     "metadata": {},
     "output_type": "execute_result"
    }
   ],
   "source": [
    "array_1D"
   ]
  },
  {
   "cell_type": "code",
   "execution_count": 30,
   "id": "37d7ddc6-658c-4dad-a3ef-f72a11d86d88",
   "metadata": {},
   "outputs": [],
   "source": [
    "array_1D = np.array([1,2])"
   ]
  },
  {
   "cell_type": "code",
   "execution_count": 31,
   "id": "8ab77ad7-7bab-4c5e-a9f2-ec7e7af2817e",
   "metadata": {},
   "outputs": [
    {
     "data": {
      "text/plain": [
       "array([2, 4])"
      ]
     },
     "execution_count": 31,
     "metadata": {},
     "output_type": "execute_result"
    }
   ],
   "source": [
    "array_1D + np.array([1,2])"
   ]
  },
  {
   "cell_type": "code",
   "execution_count": 32,
   "id": "39b9a3e3-80f4-4c5f-ade6-0d71b03ac140",
   "metadata": {},
   "outputs": [],
   "source": [
    "a = np.array([1,2,3])"
   ]
  },
  {
   "cell_type": "code",
   "execution_count": 33,
   "id": "475d4260-dc8e-49e4-a4ca-ebff08df7dc5",
   "metadata": {},
   "outputs": [],
   "source": [
    "b = np.array([4, 5,6])"
   ]
  },
  {
   "cell_type": "code",
   "execution_count": 34,
   "id": "c5d1e80a-15aa-4d28-88c4-b61c7e7eec34",
   "metadata": {},
   "outputs": [
    {
     "data": {
      "text/plain": [
       "array([-3, -3, -3])"
      ]
     },
     "execution_count": 34,
     "metadata": {},
     "output_type": "execute_result"
    }
   ],
   "source": [
    "a-b"
   ]
  },
  {
   "cell_type": "code",
   "execution_count": 35,
   "id": "da9f6a3f-eafe-44ed-8387-240cdbbcc8ff",
   "metadata": {},
   "outputs": [
    {
     "data": {
      "text/plain": [
       "array([ 4, 10, 18])"
      ]
     },
     "execution_count": 35,
     "metadata": {},
     "output_type": "execute_result"
    }
   ],
   "source": [
    "a*b"
   ]
  },
  {
   "cell_type": "code",
   "execution_count": 36,
   "id": "f43b155f-c6a1-4a13-9efb-9a84164916b2",
   "metadata": {},
   "outputs": [
    {
     "data": {
      "text/plain": [
       "array([0.25, 0.4 , 0.5 ])"
      ]
     },
     "execution_count": 36,
     "metadata": {},
     "output_type": "execute_result"
    }
   ],
   "source": [
    "a / b"
   ]
  },
  {
   "cell_type": "code",
   "execution_count": 37,
   "id": "dcfbd917-98bd-45ff-bbb5-9537af5fde0f",
   "metadata": {},
   "outputs": [
    {
     "data": {
      "text/plain": [
       "array([2, 3, 4])"
      ]
     },
     "execution_count": 37,
     "metadata": {},
     "output_type": "execute_result"
    }
   ],
   "source": [
    "a + 1"
   ]
  },
  {
   "cell_type": "code",
   "execution_count": 38,
   "id": "a0fcd062-7b35-4cdf-b1ea-65d516bc6292",
   "metadata": {},
   "outputs": [],
   "source": [
    "a = np.array([1,2,3])"
   ]
  },
  {
   "cell_type": "code",
   "execution_count": 40,
   "id": "0a9c910a-a478-4f3e-907b-1d38131f355b",
   "metadata": {},
   "outputs": [
    {
     "data": {
      "text/plain": [
       "dtype('int64')"
      ]
     },
     "execution_count": 40,
     "metadata": {},
     "output_type": "execute_result"
    }
   ],
   "source": [
    "a.dtype"
   ]
  },
  {
   "cell_type": "code",
   "execution_count": 43,
   "id": "94edd089-c532-4ba7-9d1b-9ecab5504fc5",
   "metadata": {},
   "outputs": [],
   "source": [
    "b = np.array([1.0,2.0,3.5])"
   ]
  },
  {
   "cell_type": "code",
   "execution_count": 44,
   "id": "99bf072f-d9f7-4955-8909-5da7aa733c63",
   "metadata": {},
   "outputs": [
    {
     "data": {
      "text/plain": [
       "dtype('float64')"
      ]
     },
     "execution_count": 44,
     "metadata": {},
     "output_type": "execute_result"
    }
   ],
   "source": [
    "b.dtype"
   ]
  },
  {
   "cell_type": "code",
   "execution_count": null,
   "id": "87007bce-0497-4b0a-b192-4a3ef54e5eb2",
   "metadata": {},
   "outputs": [],
   "source": []
  }
 ],
 "metadata": {
  "kernelspec": {
   "display_name": "Python 3 (ipykernel)",
   "language": "python",
   "name": "python3"
  },
  "language_info": {
   "codemirror_mode": {
    "name": "ipython",
    "version": 3
   },
   "file_extension": ".py",
   "mimetype": "text/x-python",
   "name": "python",
   "nbconvert_exporter": "python",
   "pygments_lexer": "ipython3",
   "version": "3.11.4"
  }
 },
 "nbformat": 4,
 "nbformat_minor": 5
}
